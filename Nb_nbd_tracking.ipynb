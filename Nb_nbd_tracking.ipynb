{
 "cells": [
  {
   "cell_type": "markdown",
   "id": "a22fd588",
   "metadata": {},
   "source": [
    "__Author: Rajendra Thapa__\n",
    "\n",
    "This notebook creates a tracking system for the nbd of user-chosen atoms during a MD simulation. It was created to work with the dump file from (DL-POLY) but can be easily modified to work with any other software output files. \n",
    "\n",
    "Notes:\n",
    "- This is a LiNbO$_3$ system"
   ]
  },
  {
   "cell_type": "code",
   "execution_count": 3,
   "id": "fddb7e54",
   "metadata": {},
   "outputs": [],
   "source": [
    "import pyprind \n",
    "import pandas as pd\n",
    "import numpy as np\n",
    "import os\n",
    "import matplotlib.pyplot as plt"
   ]
  },
  {
   "cell_type": "code",
   "execution_count": 4,
   "id": "99283855",
   "metadata": {},
   "outputs": [],
   "source": [
    "def periodic_distance(atom, nbd, box):\n",
    "    '''Inputs:\n",
    "        atom = coordinate of a single reference atom\n",
    "        nbd = array of coordinates of multiple atoms\n",
    "        box = length of the box\n",
    "       Outputs:\n",
    "        dis = distance between atom and nbd\n",
    "        len(dis) == len(nbd)\n",
    "    '''\n",
    "    delta = np.abs(atom-nbd)\n",
    "    delta = np.where(delta> 0.5*box, delta-box, delta)\n",
    "    dis = np.sqrt((delta**2).sum(axis=-1))\n",
    "    return dis"
   ]
  },
  {
   "cell_type": "code",
   "execution_count": 1,
   "id": "a614654f",
   "metadata": {},
   "outputs": [],
   "source": [
    "file_paths = ['../A0_HISTORY', '../A1_HISTORY']  \n",
    "\n",
    "# Create a list of index of the particles that you want to track the nbd for\n",
    "# Take care of the spaces before and after the strings\n",
    "\n",
    "Nb_index = [' 36746 ',' 36252 ' ]\n",
    "# Create lists to store the coordinates of the Nb centers\n",
    "Nb_I, Nb_II = [], []\n",
    "# Open the file and search for the required strings\n",
    "for file_path in file_paths:\n",
    "    with open(file_path, 'r') as file:\n",
    "        previous_line = None\n",
    "        found = False\n",
    "        for line in file:\n",
    "            if \"Nb5+\" in line and Nb_index[0] in line:\n",
    "                if previous_line is not None:\n",
    "                    found = True\n",
    "                else:\n",
    "                    found = False\n",
    "            elif found:\n",
    "                Nb_I.append(line.split())  # Print the line following the match\n",
    "                found = False\n",
    "            previous_line = line\n",
    "\n",
    "        if found:\n",
    "            print(\"No line following the last match\")\n",
    "        \n",
    "        \n",
    "        \n",
    "# Open the file and search for the required strings\n",
    "for file_path in file_paths:\n",
    "    with open(file_path, 'r') as file:\n",
    "        previous_line = None\n",
    "        found = False\n",
    "        for line in file:\n",
    "            if \"Nb5+\" in line and Nb_index[1] in line:\n",
    "                if previous_line is not None:\n",
    "                    found = True\n",
    "                else:\n",
    "                    found = False\n",
    "            elif found:\n",
    "                Nb_II.append(line.split())  # Print the line following the match\n",
    "                found = False\n",
    "            previous_line = line\n",
    "\n",
    "        if found:\n",
    "            print(\"No line following the last match\")"
   ]
  },
  {
   "cell_type": "code",
   "execution_count": 6,
   "id": "bfc09c65",
   "metadata": {},
   "outputs": [
    {
     "name": "stdout",
     "output_type": "stream",
     "text": [
      "Number of snaps is  540 equivalent to  2700  ps.\n"
     ]
    }
   ],
   "source": [
    "Nb_I = np.array(Nb_I).astype(float)\n",
    "Nb_II = np.array(Nb_II).astype(float)\n",
    "print(\"Number of snaps is \", len(Nb_I), \"equivalent to \", len(Nb_I)*5, \" ps.\")"
   ]
  },
  {
   "cell_type": "code",
   "execution_count": 7,
   "id": "ff73ec22",
   "metadata": {},
   "outputs": [
    {
     "name": "stderr",
     "output_type": "stream",
     "text": [
      "Processing: 100%|█████████████████████████████████████████████████████████| 53840162/53840162 [01:17<00:00, 692606.14it/s]\n",
      "Processing: 100%|█████████████████████████████████████████████████████████| 53840162/53840162 [01:18<00:00, 684988.24it/s]\n"
     ]
    },
    {
     "name": "stdout",
     "output_type": "stream",
     "text": [
      "(32307120, 3)\n",
      "Number of O atom in the system is 59828\n"
     ]
    }
   ],
   "source": [
    "from tqdm import tqdm\n",
    "\n",
    "# Since we want to look at Nb-O units, let us pull out 'O2' coordinates from the HISTORY file\n",
    "search_string = \"O2\"\n",
    "found = False\n",
    "\n",
    "coords_O=[]\n",
    "for file_path in file_paths:\n",
    "    with open(file_path, \"r\") as file:\n",
    "        total_lines = sum(1 for _ in file)\n",
    "        file.seek(0)  # Reset the file pointer to the beginning\n",
    "        progress_bar = tqdm(total=total_lines, desc=\"Processing\")\n",
    "\n",
    "        for line in file:\n",
    "            progress_bar.update(1)  # Update the progress bar\n",
    "            if search_string in line:\n",
    "                found = True\n",
    "            elif found:\n",
    "            # Print or store the following line\n",
    "                coords_O.append(np.asarray(line.split()).astype(float))  # or do something else with the line\n",
    "                found = False\n",
    "\n",
    "        progress_bar.close()  # Close the prog\n",
    "\n",
    "coords_O = np.asarray(coords_O).astype(float)\n",
    "print(np.shape(coords_O))\n",
    "print(f\"Number of O atom in the system is {int(len(coords_O)/len(Nb_I))}\")"
   ]
  },
  {
   "cell_type": "code",
   "execution_count": 8,
   "id": "75039054",
   "metadata": {},
   "outputs": [
    {
     "name": "stdout",
     "output_type": "stream",
     "text": [
      "540\n"
     ]
    }
   ],
   "source": [
    "# Create a list of the box size at each snapshot in the HISTORY file\n",
    "box = []\n",
    "for file_path in file_paths:\n",
    "    with open(file_path, 'r') as file:\n",
    "        previous_line = None\n",
    "        found = False\n",
    "        for line in file:\n",
    "            if \"timestep \" in line:\n",
    "                if previous_line is not None:\n",
    "                    found = True\n",
    "                else:\n",
    "                    found = False\n",
    "            elif found:\n",
    "                box.append(float(line.split()[0]))  # Print the line following the match\n",
    "                found = False\n",
    "            previous_line = line\n",
    "\n",
    "        if found:\n",
    "            print(\"No line following the last match\")\n",
    "print(len(box))"
   ]
  },
  {
   "cell_type": "code",
   "execution_count": 11,
   "id": "7895033e",
   "metadata": {},
   "outputs": [],
   "source": [
    "snaps_A0 = len(Nb_I)\n",
    "NAT = int(len(coords_O)/len(Nb_I))\n",
    "Nb_O_bond = 2.80\n",
    "\n",
    "# Create an output xyz file named according to the chosen Nb atoms that were tracked\n",
    "out1 = open(f'Nb_{Nb_index[0].strip()}_{Nb_index[1].strip()}.xyz','w')\n",
    "\n",
    "for ind in range(snaps_A0):\n",
    "    s1 = ind*NAT\n",
    "    snap_ = coords_O[s1: s1+NAT, :]\n",
    "    \n",
    "    d_I = periodic_distance(snap_, Nb_I[ind,:], box[ind])\n",
    "    d_II = periodic_distance(snap_, Nb_II[ind, :], box[ind])\n",
    "    indices_I = [i for i,j in enumerate(d_I) if j<Nb_O_bond]\n",
    "    indices_II = [i for i,j in enumerate(d_II) if j<Nb_O_bond]\n",
    "    \n",
    "    print(len(indices_I)+len(indices_II)+2,file=out1)\n",
    "    print('Frame ',ind,' cell_orig ',-box[ind]*0.5,' ',-box[ind]*0.5,' ',-box[ind]*0.5,\\\n",
    "          ' cell_vec1 ',box[ind],' 0.0 0.0 cell_vec2 0.0 ',box[ind],\\\n",
    "          ' 0.0 cell_vec3 0.0  0.0 ',box[ind],' pbc 1 1 1', file=out1)\n",
    "\n",
    "    print('Nb ', Nb_I[ind][0], Nb_I[ind][1], Nb_I[ind][2], file = out1)\n",
    "    print('Nb ', Nb_II[ind][0], Nb_II[ind][1], Nb_II[ind][2], file = out1)\n",
    "    for k in indices_I:\n",
    "        print('O ', snap_[k][0], snap_[k][1], snap_[k][2], file = out1)\n",
    "    for k in indices_II:\n",
    "        print('O ', snap_[k][0], snap_[k][1], snap_[k][2], file = out1)\n",
    "out1.close()\n"
   ]
  },
  {
   "cell_type": "markdown",
   "id": "b1c0096e",
   "metadata": {},
   "source": [
    "You can use this .xyz file to create a movie of the displacement of the Nb-O strucutural units using OVITO or other visualization software. "
   ]
  },
  {
   "cell_type": "code",
   "execution_count": null,
   "id": "d704a3e6",
   "metadata": {},
   "outputs": [],
   "source": []
  }
 ],
 "metadata": {
  "kernelspec": {
   "display_name": "Python 3 (ipykernel)",
   "language": "python",
   "name": "python3"
  },
  "language_info": {
   "codemirror_mode": {
    "name": "ipython",
    "version": 3
   },
   "file_extension": ".py",
   "mimetype": "text/x-python",
   "name": "python",
   "nbconvert_exporter": "python",
   "pygments_lexer": "ipython3",
   "version": "3.10.9"
  }
 },
 "nbformat": 4,
 "nbformat_minor": 5
}
